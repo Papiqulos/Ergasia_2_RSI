{
 "cells": [
  {
   "cell_type": "code",
   "execution_count": 1,
   "id": "4ad236a5-752f-4303-9aa2-89f52edb82f7",
   "metadata": {},
   "outputs": [
    {
     "ename": "ModuleNotFoundError",
     "evalue": "No module named 'pinocchio.robot_wrapper'",
     "output_type": "error",
     "traceback": [
      "\u001b[1;31m---------------------------------------------------------------------------\u001b[0m",
      "\u001b[1;31mModuleNotFoundError\u001b[0m                       Traceback (most recent call last)",
      "Cell \u001b[1;32mIn[1], line 5\u001b[0m\n\u001b[0;32m      2\u001b[0m \u001b[38;5;28;01mimport\u001b[39;00m \u001b[38;5;21;01mpinocchio\u001b[39;00m \u001b[38;5;28;01mas\u001b[39;00m \u001b[38;5;21;01mpin\u001b[39;00m \u001b[38;5;66;03m# Pinocchio library\u001b[39;00m\n\u001b[0;32m      3\u001b[0m \u001b[38;5;28;01mimport\u001b[39;00m \u001b[38;5;21;01mos\u001b[39;00m\n\u001b[1;32m----> 5\u001b[0m \u001b[38;5;28;01mfrom\u001b[39;00m \u001b[38;5;21;01mpinocchio\u001b[39;00m\u001b[38;5;21;01m.\u001b[39;00m\u001b[38;5;21;01mrobot_wrapper\u001b[39;00m \u001b[38;5;28;01mimport\u001b[39;00m RobotWrapper\n\u001b[0;32m      6\u001b[0m \u001b[38;5;28;01mfrom\u001b[39;00m \u001b[38;5;21;01mpinocchio\u001b[39;00m\u001b[38;5;21;01m.\u001b[39;00m\u001b[38;5;21;01mvisualize\u001b[39;00m \u001b[38;5;28;01mimport\u001b[39;00m MeshcatVisualizer\n\u001b[0;32m      8\u001b[0m VISUALIZER \u001b[38;5;241m=\u001b[39m MeshcatVisualizer\n",
      "\u001b[1;31mModuleNotFoundError\u001b[0m: No module named 'pinocchio.robot_wrapper'"
     ]
    }
   ],
   "source": [
    "import numpy as np # Linear Algebra\n",
    "import pinocchio as pin # Pinocchio library\n",
    "import os\n",
    "\n",
    "from pinocchio.robot_wrapper import RobotWrapper\n",
    "from pinocchio.visualize import MeshcatVisualizer\n",
    "\n",
    "VISUALIZER = MeshcatVisualizer"
   ]
  },
  {
   "cell_type": "code",
   "execution_count": null,
   "id": "569c2788-7367-4d15-896e-d7ef7c89d908",
   "metadata": {},
   "outputs": [],
   "source": [
    "current_path = os.path.abspath('') # where the folder `robot` is located at\n",
    "robot_path = os.path.join(current_path, \"robot\")"
   ]
  },
  {
   "cell_type": "code",
   "execution_count": null,
   "id": "d964735d-86fc-4bdd-b9af-27ca604fd134",
   "metadata": {},
   "outputs": [],
   "source": [
    "# Read URDF model\n",
    "robot = RobotWrapper.BuildFromURDF(os.path.join(robot_path, \"franka.urdf\"), package_dirs = robot_path)\n",
    "\n",
    "# Extract pinocchio model and ata\n",
    "model = robot.model\n",
    "data = robot.data"
   ]
  },
  {
   "cell_type": "code",
   "execution_count": null,
   "id": "5e4544c3-9363-4448-afcf-dd2a9cc75d11",
   "metadata": {},
   "outputs": [],
   "source": [
    "# Visualizer!\n",
    "robot.setVisualizer(VISUALIZER())\n",
    "robot.initViewer()\n",
    "robot.loadViewerModel(\"pinocchio\")"
   ]
  },
  {
   "cell_type": "code",
   "execution_count": null,
   "id": "96617f17-904d-444e-ab57-72e5255a60c7",
   "metadata": {},
   "outputs": [],
   "source": [
    "%%html\n",
    "<iframe src=\"http://127.0.0.1:7000/static/\" width=\"640\" height=\"480\"></iframe>"
   ]
  },
  {
   "cell_type": "code",
   "execution_count": null,
   "id": "0e833b00-fddd-4efe-8699-0e0a41116b7e",
   "metadata": {},
   "outputs": [],
   "source": [
    "q = pin.randomConfiguration(model)\n",
    "\n",
    "# Display a robot configuration!\n",
    "robot.display(q)"
   ]
  }
 ],
 "metadata": {
  "kernelspec": {
   "display_name": "Python 3 (ipykernel)",
   "language": "python",
   "name": "python3"
  },
  "language_info": {
   "codemirror_mode": {
    "name": "ipython",
    "version": 3
   },
   "file_extension": ".py",
   "mimetype": "text/x-python",
   "name": "python",
   "nbconvert_exporter": "python",
   "pygments_lexer": "ipython3",
   "version": "3.12.2"
  }
 },
 "nbformat": 4,
 "nbformat_minor": 5
}
