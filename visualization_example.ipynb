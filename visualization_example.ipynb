{
 "cells": [
  {
   "cell_type": "code",
   "execution_count": 1,
   "id": "4ad236a5-752f-4303-9aa2-89f52edb82f7",
   "metadata": {},
   "outputs": [],
   "source": [
    "import numpy as np # Linear Algebra\n",
    "import pinocchio as pin # Pinocchio library\n",
    "import os\n",
    "import time\n",
    "\n",
    "from pinocchio.robot_wrapper import RobotWrapper\n",
    "from pinocchio.visualize import MeshcatVisualizer\n",
    "import main\n",
    "\n",
    "VISUALIZER = MeshcatVisualizer"
   ]
  },
  {
   "cell_type": "code",
   "execution_count": 2,
   "id": "569c2788-7367-4d15-896e-d7ef7c89d908",
   "metadata": {},
   "outputs": [],
   "source": [
    "current_path = os.path.abspath('') # where the folder `robot` is located at\n",
    "robot_path = os.path.join(current_path, \"robot\")"
   ]
  },
  {
   "cell_type": "code",
   "execution_count": 3,
   "id": "d964735d-86fc-4bdd-b9af-27ca604fd134",
   "metadata": {},
   "outputs": [],
   "source": [
    "# Read URDF model\n",
    "robot = RobotWrapper.BuildFromURDF(os.path.join(robot_path, \"franka.urdf\"), package_dirs = robot_path)\n",
    "\n",
    "# Extract pinocchio model and data\n",
    "model = robot.model\n",
    "data = robot.data"
   ]
  },
  {
   "cell_type": "code",
   "execution_count": 4,
   "id": "5e4544c3-9363-4448-afcf-dd2a9cc75d11",
   "metadata": {},
   "outputs": [
    {
     "name": "stdout",
     "output_type": "stream",
     "text": [
      "You can open the visualizer by visiting the following URL:\n",
      "http://127.0.0.1:7000/static/\n"
     ]
    }
   ],
   "source": [
    "# Visualizer!\n",
    "robot.setVisualizer(VISUALIZER())\n",
    "robot.initViewer()\n",
    "robot.loadViewerModel(\"pinocchio\")"
   ]
  },
  {
   "cell_type": "code",
   "execution_count": 5,
   "id": "96617f17-904d-444e-ab57-72e5255a60c7",
   "metadata": {},
   "outputs": [
    {
     "data": {
      "text/html": [
       "<iframe src=\"http://127.0.0.1:7000/static/\" width=\"640\" height=\"480\"></iframe>\n"
      ],
      "text/plain": [
       "<IPython.core.display.HTML object>"
      ]
     },
     "metadata": {},
     "output_type": "display_data"
    }
   ],
   "source": [
    "%%html\n",
    "<iframe src=\"http://127.0.0.1:7000/static/\" width=\"640\" height=\"480\"></iframe>"
   ]
  },
  {
   "cell_type": "code",
   "execution_count": 10,
   "id": "0e833b00-fddd-4efe-8699-0e0a41116b7e",
   "metadata": {},
   "outputs": [
    {
     "name": "stdout",
     "output_type": "stream",
     "text": [
      "Time steps: 133\n"
     ]
    }
   ],
   "source": [
    "\n",
    "T = 4\n",
    "dt = 0.03\n",
    "K = int(T/dt)\n",
    "\n",
    "q0 = pin.neutral(model)\n",
    "u = np.zeros(model.nv)\n",
    "control_t = np.array([0.0, 0.0, 0.0, 1000.0, 0.0, 0.0, 0.0])\n",
    "\n",
    "# qs, end_state = main.simulate(model, data, q0, u , control_t, T, dt)\n",
    "qs2, end_state2 = main.simulate(model, data, q0, u , -control_t, T, dt)\n",
    "\n",
    "for q in qs2:\n",
    "    robot.display(q)\n",
    "    time.sleep(0.01)"
   ]
  }
 ],
 "metadata": {
  "kernelspec": {
   "display_name": "Python 3 (ipykernel)",
   "language": "python",
   "name": "python3"
  },
  "language_info": {
   "codemirror_mode": {
    "name": "ipython",
    "version": 3
   },
   "file_extension": ".py",
   "mimetype": "text/x-python",
   "name": "python",
   "nbconvert_exporter": "python",
   "pygments_lexer": "ipython3",
   "version": "3.12.3"
  }
 },
 "nbformat": 4,
 "nbformat_minor": 5
}
